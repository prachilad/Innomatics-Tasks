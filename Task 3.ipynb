{
 "cells": [
  {
   "cell_type": "markdown",
   "id": "e22d7303",
   "metadata": {},
   "source": [
    "### Problem 1: Polar Coordinates"
   ]
  },
  {
   "cell_type": "code",
   "execution_count": 13,
   "id": "22b1abcc",
   "metadata": {},
   "outputs": [
    {
     "name": "stdout",
     "output_type": "stream",
     "text": [
      "2+2j\n",
      "2.8284271247461903\n",
      "0.7853981633974483\n"
     ]
    }
   ],
   "source": [
    "import cmath as c\n",
    "z = complex(input())\n",
    "\n",
    "print(c.polar(z)[0]) # returns r\n",
    "print(c.polar(z)[1]) # returns phi"
   ]
  },
  {
   "cell_type": "markdown",
   "id": "fb510c35",
   "metadata": {},
   "source": [
    "### Code outputs the polar coordinates of the input complex number"
   ]
  },
  {
   "cell_type": "markdown",
   "id": "0b1a6076",
   "metadata": {},
   "source": [
    "### Problem 2: Angle MBC"
   ]
  },
  {
   "cell_type": "code",
   "execution_count": 14,
   "id": "5f000450",
   "metadata": {},
   "outputs": [
    {
     "name": "stdout",
     "output_type": "stream",
     "text": [
      "10\n",
      "10\n",
      "45°\n"
     ]
    }
   ],
   "source": [
    "import math\n",
    "AB = int(input())\n",
    "BC= int(input())\n",
    "hype=math.hypot(AB,BC)                      #to calculate hypotenuse\n",
    "ans=round(math.degrees(math.acos(BC/hype))) #to calculate required angle \n",
    "degree=chr(176)                                #for DEGREE symbol\n",
    "print(ans,degree, sep='')"
   ]
  },
  {
   "cell_type": "markdown",
   "id": "53291885",
   "metadata": {},
   "source": [
    "### Outputs the angle MBC, where M is midpoint of the hypotenuse."
   ]
  },
  {
   "cell_type": "markdown",
   "id": "2551941f",
   "metadata": {},
   "source": [
    "### Problem 3: Triangle quest 2"
   ]
  },
  {
   "cell_type": "code",
   "execution_count": 25,
   "id": "920a2eb8",
   "metadata": {},
   "outputs": [
    {
     "name": "stdout",
     "output_type": "stream",
     "text": [
      "5\n",
      "1\n",
      "121\n",
      "12321\n",
      "1234321\n",
      "123454321\n"
     ]
    }
   ],
   "source": [
    "n = int(input())\n",
    "\n",
    "#print\n",
    "# square of 1*1\n",
    "# square of 11\n",
    "# square of 111\n",
    "\n",
    "for i in range(1,n+1): \n",
    "    print(int(i * '1') ** 2)"
   ]
  },
  {
   "cell_type": "markdown",
   "id": "6690d139",
   "metadata": {},
   "source": [
    "### Output a palindrome triangle"
   ]
  },
  {
   "cell_type": "markdown",
   "id": "a3242a40",
   "metadata": {},
   "source": [
    "### Problem 4: Mod Divmod"
   ]
  },
  {
   "cell_type": "code",
   "execution_count": 26,
   "id": "3ea2f5f9",
   "metadata": {},
   "outputs": [
    {
     "name": "stdout",
     "output_type": "stream",
     "text": [
      "177\n",
      "10\n",
      "17\n",
      "7\n",
      "(17, 7)\n"
     ]
    }
   ],
   "source": [
    "n = int(input())\n",
    "m = int(input())\n",
    "\n",
    "print(n//m)\n",
    "print(n%m)\n",
    "print(divmod(n,m))"
   ]
  },
  {
   "cell_type": "markdown",
   "id": "204251fd",
   "metadata": {},
   "source": [
    "### Problem 5: Power Mod"
   ]
  },
  {
   "cell_type": "code",
   "execution_count": 27,
   "id": "7216d826",
   "metadata": {},
   "outputs": [
    {
     "name": "stdout",
     "output_type": "stream",
     "text": [
      "3\n",
      "4\n",
      "2\n",
      "81\n",
      "1\n"
     ]
    }
   ],
   "source": [
    "a = int(input())\n",
    "b = int(input())\n",
    "m = int(input())\n",
    "\n",
    "print(pow(a,b))\n",
    "print(pow(a,b,m))"
   ]
  },
  {
   "cell_type": "markdown",
   "id": "c7795ff5",
   "metadata": {},
   "source": [
    "### Problem 6: Integers come in all sizes"
   ]
  },
  {
   "cell_type": "code",
   "execution_count": 29,
   "id": "a008d41d",
   "metadata": {},
   "outputs": [
    {
     "name": "stdout",
     "output_type": "stream",
     "text": [
      "4\n",
      "10\n",
      "5\n",
      "12\n",
      "245189201\n"
     ]
    }
   ],
   "source": [
    "a = int(input())\n",
    "b = int(input())\n",
    "n = int(input())\n",
    "m = int(input())\n",
    "\n",
    "print(pow(a,b)+pow(n,m))"
   ]
  },
  {
   "cell_type": "markdown",
   "id": "3ad58c5a",
   "metadata": {},
   "source": [
    "### Problem 7: Triangle Quest"
   ]
  },
  {
   "cell_type": "code",
   "execution_count": 39,
   "id": "b0dc3f6e",
   "metadata": {},
   "outputs": [
    {
     "name": "stdout",
     "output_type": "stream",
     "text": [
      "5\n",
      "1\n",
      "22\n",
      "333\n",
      "4444\n"
     ]
    }
   ],
   "source": [
    "n = int(input())\n",
    "\n",
    "for i in range(1,n):\n",
    "    print(int(i * '1') * i)"
   ]
  },
  {
   "cell_type": "code",
   "execution_count": null,
   "id": "dab4745c",
   "metadata": {},
   "outputs": [],
   "source": []
  }
 ],
 "metadata": {
  "kernelspec": {
   "display_name": "Python 3",
   "language": "python",
   "name": "python3"
  },
  "language_info": {
   "codemirror_mode": {
    "name": "ipython",
    "version": 3
   },
   "file_extension": ".py",
   "mimetype": "text/x-python",
   "name": "python",
   "nbconvert_exporter": "python",
   "pygments_lexer": "ipython3",
   "version": "3.8.8"
  }
 },
 "nbformat": 4,
 "nbformat_minor": 5
}
