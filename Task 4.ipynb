{
 "cells": [
  {
   "cell_type": "markdown",
   "id": "8e028fe4",
   "metadata": {},
   "source": [
    "### Problem 1: Find a string"
   ]
  },
  {
   "cell_type": "code",
   "execution_count": 10,
   "id": "6618284b",
   "metadata": {},
   "outputs": [
    {
     "name": "stdout",
     "output_type": "stream",
     "text": [
      "ABCDCDC\n",
      "CDC\n"
     ]
    }
   ],
   "source": [
    "string = input()\n",
    "sub = input()\n",
    "c = 0\n",
    "for i in range(len(string)):\n",
    "    if string[i:i+len(sub)] == sub:\n",
    "        c=c+1  \n",
    "print(c)"
   ]
  },
  {
   "cell_type": "markdown",
   "id": "1a63ba73",
   "metadata": {},
   "source": [
    "### Finding the count of occurences of a substring in a string"
   ]
  },
  {
   "cell_type": "markdown",
   "id": "3539a48d",
   "metadata": {},
   "source": [
    "### Problem 2: String Validators"
   ]
  },
  {
   "cell_type": "code",
   "execution_count": 96,
   "id": "7dcd12ae",
   "metadata": {},
   "outputs": [
    {
     "name": "stdout",
     "output_type": "stream",
     "text": [
      "123\n",
      "True\n",
      "False\n",
      "True\n",
      "False\n",
      "False\n"
     ]
    }
   ],
   "source": [
    "string = input()\n",
    "\n",
    "\n",
    "print(any(s.isalnum() for s in string))\n",
    "print(any(s.isalpha() for s in string))\n",
    "print(any(s.isdigit() for s in string))\n",
    "print(any(s.islower() for s in string))\n",
    "print(any(s.isupper() for s in string))"
   ]
  },
  {
   "cell_type": "code",
   "execution_count": 12,
   "id": "334f812f",
   "metadata": {},
   "outputs": [],
   "source": [
    "string='Pra1'"
   ]
  },
  {
   "cell_type": "code",
   "execution_count": 14,
   "id": "e6d9cd37",
   "metadata": {},
   "outputs": [
    {
     "data": {
      "text/plain": [
       "True"
      ]
     },
     "execution_count": 14,
     "metadata": {},
     "output_type": "execute_result"
    }
   ],
   "source": [
    "any(string)"
   ]
  },
  {
   "cell_type": "markdown",
   "id": "1e3f4fcb",
   "metadata": {},
   "source": [
    "### Problem 3: Swap case"
   ]
  },
  {
   "cell_type": "code",
   "execution_count": 19,
   "id": "ab7387b2",
   "metadata": {},
   "outputs": [],
   "source": [
    "def swap_case(s):\n",
    "    \n",
    "    mod = []\n",
    "    for i in s:\n",
    "        if i.isupper():\n",
    "            i = i.lower()\n",
    "            mod.append(i) \n",
    "        else:\n",
    "            i=i.upper()\n",
    "            mod.append(i)\n",
    "    s = ''\n",
    "    for i in mod:\n",
    "        s += i\n",
    "        \n",
    "    return s"
   ]
  },
  {
   "cell_type": "code",
   "execution_count": 21,
   "id": "760c598c",
   "metadata": {},
   "outputs": [
    {
     "data": {
      "text/plain": [
       "'pRaCHI'"
      ]
     },
     "execution_count": 21,
     "metadata": {},
     "output_type": "execute_result"
    }
   ],
   "source": [
    "swap_case('PrAchi')"
   ]
  },
  {
   "cell_type": "markdown",
   "id": "2d0db732",
   "metadata": {},
   "source": [
    "### Problem 4: String Split and join"
   ]
  },
  {
   "cell_type": "code",
   "execution_count": 22,
   "id": "f60975fc",
   "metadata": {},
   "outputs": [],
   "source": [
    "def split_and_join(line):\n",
    "    line = line.split(\" \")\n",
    "    line = \"-\".join(line)\n",
    "    return line"
   ]
  },
  {
   "cell_type": "code",
   "execution_count": 23,
   "id": "420bad8e",
   "metadata": {},
   "outputs": [
    {
     "name": "stdout",
     "output_type": "stream",
     "text": [
      "This-is-a-string\n"
     ]
    }
   ],
   "source": [
    "ans = split_and_join(\"This is a string\")\n",
    "print(ans)"
   ]
  },
  {
   "cell_type": "markdown",
   "id": "8e0492e4",
   "metadata": {},
   "source": [
    "### Probelm 5: what's your name?"
   ]
  },
  {
   "cell_type": "code",
   "execution_count": 24,
   "id": "d773ecee",
   "metadata": {},
   "outputs": [],
   "source": [
    "def print_full_name(first, last):\n",
    "    return print(\"Hello {} {}! You just delved into python.\".format(first,last))\n",
    "    # Write your code here"
   ]
  },
  {
   "cell_type": "code",
   "execution_count": 25,
   "id": "24af22ff",
   "metadata": {},
   "outputs": [
    {
     "name": "stdout",
     "output_type": "stream",
     "text": [
      "Hello Prachi Lad! You just delved into python.\n"
     ]
    }
   ],
   "source": [
    "print_full_name('Prachi','Lad')"
   ]
  },
  {
   "cell_type": "markdown",
   "id": "c1f99e11",
   "metadata": {},
   "source": [
    "### Problem 6: Mutations"
   ]
  },
  {
   "cell_type": "code",
   "execution_count": 26,
   "id": "658008e4",
   "metadata": {},
   "outputs": [],
   "source": [
    "def mutate_string(string, position, character):\n",
    "    l = list(string)\n",
    "    l[position] = character\n",
    "    string = \"\".join(l)\n",
    "    return string\n"
   ]
  },
  {
   "cell_type": "code",
   "execution_count": 29,
   "id": "53a7f568",
   "metadata": {},
   "outputs": [
    {
     "name": "stdout",
     "output_type": "stream",
     "text": [
      "abrakkdabra\n"
     ]
    }
   ],
   "source": [
    "ans = mutate_string('abrakadabra',5,'k')\n",
    "print(ans)"
   ]
  },
  {
   "cell_type": "markdown",
   "id": "c6de1ca9",
   "metadata": {},
   "source": [
    "### Probelm 7: Text Alignment"
   ]
  },
  {
   "cell_type": "code",
   "execution_count": 30,
   "id": "c2a1be90",
   "metadata": {},
   "outputs": [
    {
     "name": "stdout",
     "output_type": "stream",
     "text": [
      "3\n",
      "  H  \n",
      " HHH \n",
      "HHHHH\n",
      " HHH         HHH        \n",
      " HHH         HHH        \n",
      " HHH         HHH        \n",
      " HHH         HHH        \n",
      " HHHHHHHHHHHHHHH  \n",
      " HHHHHHHHHHHHHHH  \n",
      " HHH         HHH        \n",
      " HHH         HHH        \n",
      " HHH         HHH        \n",
      " HHH         HHH        \n",
      "            HHHHH \n",
      "             HHH  \n",
      "              H   \n"
     ]
    }
   ],
   "source": [
    "#Replace all ______ with rjust, ljust or center. \n",
    "\n",
    "thickness = int(input()) #This must be an odd number\n",
    "c = 'H'\n",
    "\n",
    "#Top Cone\n",
    "for i in range(thickness):\n",
    "    print((c*i).rjust(thickness-1)+c+(c*i).ljust(thickness-1))\n",
    "\n",
    "#Top Pillars\n",
    "for i in range(thickness+1):\n",
    "    print((c*thickness).center(thickness*2)+(c*thickness).center(thickness*6))\n",
    "\n",
    "#Middle Belt\n",
    "for i in range((thickness+1)//2):\n",
    "    print((c*thickness*5).center(thickness*6))    \n",
    "\n",
    "#Bottom Pillars\n",
    "for i in range(thickness+1):\n",
    "    print((c*thickness).center(thickness*2)+(c*thickness).center(thickness*6))    \n",
    "\n",
    "#Bottom Cone\n",
    "for i in range(thickness):\n",
    "    print(((c*(thickness-i-1)).rjust(thickness)+c+(c*(thickness-i-1)).ljust(thickness)).rjust(thickness*6))"
   ]
  },
  {
   "cell_type": "markdown",
   "id": "17e2ce6d",
   "metadata": {},
   "source": [
    "### Problem 8: Text wrap"
   ]
  },
  {
   "cell_type": "code",
   "execution_count": 32,
   "id": "6becbf4e",
   "metadata": {},
   "outputs": [
    {
     "name": "stdout",
     "output_type": "stream",
     "text": [
      "ABCDEFGHIJKLIMNOQRSTUVWXYZ\n",
      "4\n",
      "ABCD\n",
      "EFGH\n",
      "IJKL\n",
      "IMNO\n",
      "QRST\n",
      "UVWX\n",
      "YZ\n"
     ]
    }
   ],
   "source": [
    "import textwrap\n",
    "\n",
    "def wrap(string, max_width):\n",
    "    \n",
    "    return textwrap.fill(string,max_width)\n",
    "\n",
    "if __name__ == '__main__':\n",
    "    string, max_width = input(), int(input())\n",
    "    result = wrap(string, max_width)\n",
    "    print(result)"
   ]
  },
  {
   "cell_type": "markdown",
   "id": "1da5a17e",
   "metadata": {},
   "source": [
    "### Problem 9: String Formatting"
   ]
  },
  {
   "cell_type": "code",
   "execution_count": 45,
   "id": "d61a2106",
   "metadata": {},
   "outputs": [
    {
     "name": "stdout",
     "output_type": "stream",
     "text": [
      "17\n",
      "    1      1      1      1\n",
      "    2      2      2     10\n",
      "    3      3      3     11\n",
      "    4      4      4    100\n",
      "    5      5      5    101\n",
      "    6      6      6    110\n",
      "    7      7      7    111\n",
      "    8     10      8   1000\n",
      "    9     11      9   1001\n",
      "   10     12      A   1010\n",
      "   11     13      B   1011\n",
      "   12     14      C   1100\n",
      "   13     15      D   1101\n",
      "   14     16      E   1110\n",
      "   15     17      F   1111\n",
      "   16     20     10  10000\n",
      "   17     21     11  10001\n"
     ]
    }
   ],
   "source": [
    "def print_formatted(number):\n",
    "    pad = len(bin(number)[2:])\n",
    "    for i in range(1,number+1):\n",
    "        print(str(i).rjust(pad,' '), oct(i)[2:].rjust(pad,' '), hex(i)[2:].upper().rjust(pad,' '),bin(i)[2:].rjust(pad,' '),sep='  ')\n",
    "    # your code goes here\n",
    "\n",
    "if __name__ == '__main__':\n",
    "    n = int(input())\n",
    "    print_formatted(n)"
   ]
  },
  {
   "cell_type": "markdown",
   "id": "7fe6c7a8",
   "metadata": {},
   "source": [
    "### Problem 10: Capitalize"
   ]
  },
  {
   "cell_type": "code",
   "execution_count": 60,
   "id": "375d9535",
   "metadata": {},
   "outputs": [],
   "source": [
    "def solve(s):\n",
    "    l = s.split()\n",
    "    l= [i.capitalize() for i in l]\n",
    "    return ' '.join(l)"
   ]
  },
  {
   "cell_type": "code",
   "execution_count": 62,
   "id": "73f7fb59",
   "metadata": {},
   "outputs": [
    {
     "name": "stdout",
     "output_type": "stream",
     "text": [
      "132 456 Wq M E\n"
     ]
    }
   ],
   "source": [
    "ans = solve('132 456 Wq  m e')\n",
    "print(ans)"
   ]
  },
  {
   "cell_type": "markdown",
   "id": "8f4dc1df",
   "metadata": {},
   "source": [
    "### Problem 11: Merge tools"
   ]
  },
  {
   "cell_type": "code",
   "execution_count": 91,
   "id": "177e5d95",
   "metadata": {},
   "outputs": [
    {
     "name": "stdout",
     "output_type": "stream",
     "text": [
      "AABCAAADA\n",
      "3\n",
      "AB\n",
      "AC\n",
      "AD\n"
     ]
    }
   ],
   "source": [
    "def merge_the_tools(string, k):\n",
    "    for i in range(0,len(string),k):\n",
    "        a=sorted(set(string[i:i+k]))\n",
    "        print(''.join(a))\n",
    "        \n",
    "    \n",
    "    # your code goes here\n",
    "\n",
    "if __name__ == '__main__':\n",
    "    string, k = input(), int(input())\n",
    "    merge_the_tools(string, k)"
   ]
  },
  {
   "cell_type": "markdown",
   "id": "6457c923",
   "metadata": {},
   "source": [
    "### Print each subsequence on a new line. There will be n/k  of them where n is length of string"
   ]
  },
  {
   "cell_type": "code",
   "execution_count": null,
   "id": "49d1b97d",
   "metadata": {},
   "outputs": [],
   "source": []
  }
 ],
 "metadata": {
  "kernelspec": {
   "display_name": "Python 3",
   "language": "python",
   "name": "python3"
  },
  "language_info": {
   "codemirror_mode": {
    "name": "ipython",
    "version": 3
   },
   "file_extension": ".py",
   "mimetype": "text/x-python",
   "name": "python",
   "nbconvert_exporter": "python",
   "pygments_lexer": "ipython3",
   "version": "3.8.8"
  }
 },
 "nbformat": 4,
 "nbformat_minor": 5
}
