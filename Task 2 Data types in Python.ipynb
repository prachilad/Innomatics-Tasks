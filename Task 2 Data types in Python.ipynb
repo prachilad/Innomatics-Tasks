{
 "cells": [
  {
   "cell_type": "markdown",
   "id": "249d72d1",
   "metadata": {},
   "source": [
    "### Problem 1: Introduction to Sets"
   ]
  },
  {
   "cell_type": "code",
   "execution_count": 2,
   "id": "32098fd5",
   "metadata": {},
   "outputs": [
    {
     "name": "stdout",
     "output_type": "stream",
     "text": [
      "10\n",
      "161 182 161 154 176 170 167 171 170 174\n",
      "Average is: 169.375\n"
     ]
    }
   ],
   "source": [
    "def average(array):\n",
    "    arr = set(array)\n",
    "    avg = sum(arr)/len(arr)\n",
    "    return avg\n",
    "    # your code goes here\n",
    "\n",
    "if __name__ == '__main__':\n",
    "    n = int(input())\n",
    "    arr = list(map(int, input().split()))\n",
    "    result = average(arr)\n",
    "    print('Average is: {}'.format(result))"
   ]
  },
  {
   "cell_type": "markdown",
   "id": "0b9c90ac",
   "metadata": {},
   "source": [
    "### The program outputs the average of a distinct set"
   ]
  },
  {
   "cell_type": "markdown",
   "id": "fa36c8f8",
   "metadata": {},
   "source": [
    "### Problem 2: No Idea!"
   ]
  },
  {
   "cell_type": "code",
   "execution_count": 19,
   "id": "5606c3d2",
   "metadata": {},
   "outputs": [
    {
     "name": "stdout",
     "output_type": "stream",
     "text": [
      "3 2\n",
      "1 5 3\n",
      "3 1\n",
      "5 7\n",
      "1\n"
     ]
    }
   ],
   "source": [
    "n,m = map(int,input().split())\n",
    "arr = set(map(int, input().split()))\n",
    "a = set(map(int, input().split()))\n",
    "b = set(map(int, input().split()))\n",
    "\n",
    "hap = 0\n",
    "for i in arr:\n",
    "    if i in a:\n",
    "        hap+=1\n",
    "    if i in b:\n",
    "        hap-=1\n",
    "print(hap)    "
   ]
  },
  {
   "cell_type": "markdown",
   "id": "1bb318ad",
   "metadata": {},
   "source": [
    "### Given sets A and B and a input set n. The output will be a happiness variable such that it will add 1 if the number from input set is in set A and subtract 1 if the number is from set B. The output is an integer result of this operation."
   ]
  },
  {
   "cell_type": "markdown",
   "id": "d45bce0f",
   "metadata": {},
   "source": [
    "### Problem 3: List Comprehensions"
   ]
  },
  {
   "cell_type": "code",
   "execution_count": 21,
   "id": "84d4bc05",
   "metadata": {},
   "outputs": [
    {
     "name": "stdout",
     "output_type": "stream",
     "text": [
      "2\n",
      "2\n",
      "2\n",
      "2\n",
      "[[0, 0, 0], [0, 0, 1], [0, 1, 0], [0, 1, 2], [0, 2, 1], [0, 2, 2], [1, 0, 0], [1, 0, 2], [1, 1, 1], [1, 1, 2], [1, 2, 0], [1, 2, 1], [1, 2, 2], [2, 0, 1], [2, 0, 2], [2, 1, 0], [2, 1, 1], [2, 1, 2], [2, 2, 0], [2, 2, 1], [2, 2, 2]]\n"
     ]
    }
   ],
   "source": [
    "if __name__ == '__main__':\n",
    "    x = int(input())\n",
    "    y = int(input())\n",
    "    z = int(input())\n",
    "    n = int(input())\n",
    "    \n",
    "    opL = [[i,j,w] for i in range(x+1) for j in range(y+1) for w in range(z+1) if i+j+w!=n]\n",
    "    print(opL)\n"
   ]
  },
  {
   "cell_type": "markdown",
   "id": "f0b6eca6",
   "metadata": {},
   "source": [
    "### Outputs a list of lists where the sum of elements is not equal to input number n."
   ]
  },
  {
   "cell_type": "markdown",
   "id": "be734207",
   "metadata": {},
   "source": [
    "### Problem 4: Find the Runner-Up Score!"
   ]
  },
  {
   "cell_type": "code",
   "execution_count": 23,
   "id": "1362dedb",
   "metadata": {},
   "outputs": [
    {
     "name": "stdout",
     "output_type": "stream",
     "text": [
      "5\n",
      "2 3 6 6 5\n",
      "5\n"
     ]
    }
   ],
   "source": [
    "if __name__ == '__main__':\n",
    "    n = int(input())\n",
    "    arr = list(map(int, input().split()))\n",
    "    arr.sort(reverse=True)\n",
    "    for i in range(len(arr)):\n",
    "        if arr[i] > arr[i+1]:\n",
    "            runner = arr[i+1]\n",
    "            break\n",
    "        else:\n",
    "            pass\n",
    "    \n",
    "    print(runner)\n"
   ]
  },
  {
   "cell_type": "markdown",
   "id": "a00b81cb",
   "metadata": {},
   "source": [
    "### The program will output the second highest number from the list"
   ]
  },
  {
   "cell_type": "markdown",
   "id": "b5a5bad6",
   "metadata": {},
   "source": [
    "### Problem 5: Nested Lists"
   ]
  },
  {
   "cell_type": "code",
   "execution_count": 24,
   "id": "57aa6f15",
   "metadata": {},
   "outputs": [
    {
     "name": "stdout",
     "output_type": "stream",
     "text": [
      "5\n",
      "Harry\n",
      "37.21\n",
      "Berry\n",
      "37.21\n",
      "Tina\n",
      "37.2\n",
      "Akriti\n",
      "41\n",
      "Harsh\n",
      "39\n",
      "Berry\n",
      "Harry\n"
     ]
    }
   ],
   "source": [
    "if __name__ == '__main__':\n",
    "    name =[]\n",
    "    score = []\n",
    "    for i in range(int(input())):\n",
    "        name.append(input())\n",
    "        score.append(float(input()))\n",
    "    students = list(zip(name,score))\n",
    "    py_studs=[]\n",
    "    for i in students:\n",
    "        x = list(i)\n",
    "        py_studs.append(x)\n",
    "    py_studs = sorted(py_studs, key = lambda x: x[1])\n",
    "    min = py_studs[0][1]\n",
    "    del_list = []\n",
    "    for i in py_studs:\n",
    "        if min == i[1]:\n",
    "            del_list.append(i)\n",
    "    for i in del_list:\n",
    "        py_studs.remove(i)\n",
    "    min_val = py_studs[0][1]\n",
    "    names=[]\n",
    "    for i in py_studs:\n",
    "        if i[1] == min_val:\n",
    "            names.append(i[0])\n",
    "    names.sort()\n",
    "    for i in names:\n",
    "        print(i)\n"
   ]
  },
  {
   "cell_type": "markdown",
   "id": "ea4f233e",
   "metadata": {},
   "source": [
    "### The program outputs the names of people in alphabetical order who have second highest score."
   ]
  },
  {
   "cell_type": "markdown",
   "id": "15625281",
   "metadata": {},
   "source": [
    "### Problem 6: Finding the percentage"
   ]
  },
  {
   "cell_type": "code",
   "execution_count": 25,
   "id": "cb567959",
   "metadata": {},
   "outputs": [
    {
     "name": "stdout",
     "output_type": "stream",
     "text": [
      "3\n",
      "Krishna 67 68 69\n",
      "Arjun 70 98 63\n",
      "Malika 52 56 60\n",
      "Malika\n",
      "56.00\n"
     ]
    }
   ],
   "source": [
    "if __name__ == '__main__':\n",
    "    n = int(input())\n",
    "    student_marks = {}\n",
    "    for i in range(n):\n",
    "        name, *line = input().split()\n",
    "        scores = list(map(float, line))\n",
    "        student_marks[name] = scores\n",
    "    query_name = input()\n",
    "    \n",
    "    marks = student_marks[query_name]\n",
    "    val = 0\n",
    "    for i in marks:\n",
    "        val = val + i\n",
    "    \n",
    "    avg = round(val/len(marks),2)\n",
    "    print('%.2f'%avg)\n"
   ]
  },
  {
   "cell_type": "markdown",
   "id": "a0916b57",
   "metadata": {},
   "source": [
    "### The program stores the marks for students and outputs the percentage of the student whose name is given in input."
   ]
  },
  {
   "cell_type": "markdown",
   "id": "c9915eb2",
   "metadata": {},
   "source": [
    "### Problem 7: Lists"
   ]
  },
  {
   "cell_type": "code",
   "execution_count": 26,
   "id": "f6b788de",
   "metadata": {},
   "outputs": [
    {
     "name": "stdout",
     "output_type": "stream",
     "text": [
      "2\n",
      "insert 0 5\n",
      "print\n",
      "[5]\n"
     ]
    }
   ],
   "source": [
    "if __name__ == '__main__':\n",
    "    N = int(input())\n",
    "    # Lists in Python - Hacker Rank Solution START\n",
    "    Output = [];\n",
    "    for i in range(0,N):\n",
    "        ip = input().split();\n",
    "        if ip[0] == \"print\":\n",
    "            print(Output)\n",
    "        elif ip[0] == \"insert\":\n",
    "            Output.insert(int(ip[1]),int(ip[2]))\n",
    "        elif ip[0] == \"remove\":\n",
    "            Output.remove(int(ip[1]))\n",
    "        elif ip[0] == \"pop\":\n",
    "            Output.pop();\n",
    "        elif ip[0] == \"append\":\n",
    "            Output.append(int(ip[1]))\n",
    "        elif ip[0] == \"sort\":\n",
    "            Output.sort();\n",
    "        else:\n",
    "            Output.reverse();\n"
   ]
  },
  {
   "cell_type": "markdown",
   "id": "add97ffa",
   "metadata": {},
   "source": [
    "### The program performs list operations"
   ]
  },
  {
   "cell_type": "markdown",
   "id": "301691c2",
   "metadata": {},
   "source": [
    "### Problem 8: Tuples"
   ]
  },
  {
   "cell_type": "code",
   "execution_count": 27,
   "id": "47f20e8d",
   "metadata": {},
   "outputs": [
    {
     "name": "stdout",
     "output_type": "stream",
     "text": [
      "2\n",
      "1 2\n",
      "-3550055125485641917\n"
     ]
    }
   ],
   "source": [
    "if __name__ == '__main__':\n",
    "    n = int(input())\n",
    "    integer_list = map(int, input().split())\n",
    "    integer_list = tuple(integer_list)\n",
    "    print(hash(integer_list))\n"
   ]
  },
  {
   "cell_type": "markdown",
   "id": "99231bb5",
   "metadata": {},
   "source": [
    "### Outputs the hash value of the tuple"
   ]
  },
  {
   "cell_type": "markdown",
   "id": "62f333c3",
   "metadata": {},
   "source": [
    "### Problem 9: Set Operations"
   ]
  },
  {
   "cell_type": "code",
   "execution_count": 31,
   "id": "ec3df58d",
   "metadata": {},
   "outputs": [
    {
     "name": "stdout",
     "output_type": "stream",
     "text": [
      "5\n",
      "5 6 3 4 2\n",
      "2\n",
      "pop\n",
      "remove 3\n",
      "15\n"
     ]
    }
   ],
   "source": [
    "n = int(input())\n",
    "s = set(map(int, input().split()))\n",
    "nc = int(input())\n",
    "for i in range(0,nc):\n",
    "    inp = input().split()\n",
    "    if inp[0] == 'pop':\n",
    "        s.pop()\n",
    "    if inp[0] == 'discard':\n",
    "        s.discard(int(inp[1]))\n",
    "    if inp[0] == 'remove':\n",
    "        s.remove(int(inp[1]))\n",
    "\n",
    "        \n",
    "print(sum(s))"
   ]
  },
  {
   "cell_type": "markdown",
   "id": "eb5dfa98",
   "metadata": {},
   "source": [
    "### Problem 10: Symmetric difference"
   ]
  },
  {
   "cell_type": "code",
   "execution_count": 96,
   "id": "69978ae2",
   "metadata": {},
   "outputs": [
    {
     "name": "stdout",
     "output_type": "stream",
     "text": [
      "4\n",
      "2 4 5 9\n",
      "4\n",
      "2 4 11 12\n",
      "The Symmetric difference integers\n",
      "5\n",
      "9\n",
      "11\n",
      "12\n"
     ]
    }
   ],
   "source": [
    "m = int(input())\n",
    "M = set(map(int, input().split()))\n",
    "n = int(input())\n",
    "N = set(map(int, input().split()))\n",
    "\n",
    "ans={}\n",
    "ans = M.symmetric_difference(N)\n",
    "print('The Symmetric difference integers')\n",
    "for i in sorted(ans):\n",
    "    \n",
    "    print(i)"
   ]
  },
  {
   "cell_type": "markdown",
   "id": "3c38c354",
   "metadata": {},
   "source": [
    "### Output the symmetric difference integers between 2 sets in ascending order, one per line."
   ]
  },
  {
   "cell_type": "markdown",
   "id": "9276a66f",
   "metadata": {},
   "source": [
    "### Problem 11: Set add operation"
   ]
  },
  {
   "cell_type": "code",
   "execution_count": 39,
   "id": "2a942cf3",
   "metadata": {},
   "outputs": [
    {
     "name": "stdout",
     "output_type": "stream",
     "text": [
      "4\n",
      "India\n",
      "India\n",
      "Uk\n",
      "US\n",
      "3\n"
     ]
    }
   ],
   "source": [
    "m = int(input())\n",
    "s = set()\n",
    "for i in range(m):\n",
    "    val = input()\n",
    "    s.add(val)\n",
    "\n",
    "print(len(s))"
   ]
  },
  {
   "cell_type": "markdown",
   "id": "9d235a07",
   "metadata": {},
   "source": [
    "### Output the total number of distinct country stamps on a single line."
   ]
  },
  {
   "cell_type": "markdown",
   "id": "42b6ad63",
   "metadata": {},
   "source": [
    "### Problem 12: Union in Sets"
   ]
  },
  {
   "cell_type": "code",
   "execution_count": 46,
   "id": "19222216",
   "metadata": {},
   "outputs": [
    {
     "name": "stdout",
     "output_type": "stream",
     "text": [
      "3\n",
      "4\n",
      "6 7 8\n",
      "6 4\n",
      "4\n"
     ]
    }
   ],
   "source": [
    "m = int(input())\n",
    "n = int(input())\n",
    "M = set(map(int,input().split()))\n",
    "N = set(map(int,input().split()))\n",
    " \n",
    "print(len(M.union(N)))"
   ]
  },
  {
   "cell_type": "markdown",
   "id": "d752fe68",
   "metadata": {},
   "source": [
    "### Problem 13: Intersection in Sets"
   ]
  },
  {
   "cell_type": "code",
   "execution_count": 95,
   "id": "d793440f",
   "metadata": {},
   "outputs": [
    {
     "name": "stdout",
     "output_type": "stream",
     "text": [
      "9\n",
      "1 2 3 4 5 6 7 8 9\n",
      "9\n",
      "10 1 2 3 11 21 55 6 8\n",
      "5\n"
     ]
    }
   ],
   "source": [
    "m = int(input())\n",
    "M = set(map(int,input().split()))\n",
    "n = int(input())\n",
    "\n",
    "N = set(map(int,input().split()))\n",
    " \n",
    "print(len(M.intersection(N)))"
   ]
  },
  {
   "cell_type": "markdown",
   "id": "a620245f",
   "metadata": {},
   "source": [
    "### Outputs number of elements that are common to both the sets"
   ]
  },
  {
   "cell_type": "markdown",
   "id": "97d16220",
   "metadata": {},
   "source": [
    "### Problem 14: Difference Sets"
   ]
  },
  {
   "cell_type": "code",
   "execution_count": 93,
   "id": "16cf74dd",
   "metadata": {},
   "outputs": [
    {
     "name": "stdout",
     "output_type": "stream",
     "text": [
      "9\n",
      "1 2 3 4 5 6 7 8 9\n",
      "9\n",
      "10 1 2 3 11 21 55 6 8\n",
      "4\n"
     ]
    }
   ],
   "source": [
    "m = int(input())\n",
    "M = set(map(int,input().split()))\n",
    "n = int(input())\n",
    "N = set(map(int,input().split()))\n",
    " \n",
    "print(len(M.difference(N)))"
   ]
  },
  {
   "cell_type": "markdown",
   "id": "64017617",
   "metadata": {},
   "source": [
    "### Gives the output of number of elements of a set that is not in the other"
   ]
  },
  {
   "cell_type": "markdown",
   "id": "d254d370",
   "metadata": {},
   "source": [
    "### Problem 15: Symmetric Difference"
   ]
  },
  {
   "cell_type": "code",
   "execution_count": 92,
   "id": "53315bb3",
   "metadata": {},
   "outputs": [
    {
     "name": "stdout",
     "output_type": "stream",
     "text": [
      "9\n",
      "1 2 3 4 5 6 7 8 9\n",
      "9\n",
      "10 1 2 3 11 21 55 6 8\n",
      "8\n"
     ]
    }
   ],
   "source": [
    "m = int(input())\n",
    "M = set(map(int,input().split()))\n",
    "n = int(input())\n",
    "N = set(map(int,input().split()))\n",
    " \n",
    "print(len(M.symmetric_difference(N)))"
   ]
  },
  {
   "cell_type": "markdown",
   "id": "01f13703",
   "metadata": {},
   "source": [
    "### The output is the number of elements in either set A or B but not both."
   ]
  },
  {
   "cell_type": "markdown",
   "id": "ca5ba415",
   "metadata": {},
   "source": [
    "### Problem 16: Set Mutations"
   ]
  },
  {
   "cell_type": "code",
   "execution_count": 51,
   "id": "06676fe0",
   "metadata": {},
   "outputs": [
    {
     "name": "stdout",
     "output_type": "stream",
     "text": [
      "13\n",
      "4 5 6 7 8\n",
      "4\n",
      "intersection_update 10\n",
      "2 3 5 6 8 9 1 4 7 11\n",
      "update 2\n",
      "55 66\n",
      "symmetric_difference_update 5\n",
      "22 7 35 62 58\n",
      "difference_update 7\n",
      "11 22 35 55 58 62 66\n",
      "30\n"
     ]
    }
   ],
   "source": [
    "# n = int(input())\n",
    "M = set(map(int,input().split()))\n",
    "N = int(input())\n",
    "\n",
    "for i in range(N):\n",
    "    ip,n = input().split()\n",
    "    l = set(map(int,input().split()))\n",
    "    if ip == 'intersection_update':\n",
    "        M.intersection_update(l)\n",
    "    if ip == 'update':\n",
    "        M.update(l)\n",
    "    if ip == 'difference_update':\n",
    "        M.difference_update(l)\n",
    "    \n",
    "print(sum(M))"
   ]
  },
  {
   "cell_type": "markdown",
   "id": "9e7e3e87",
   "metadata": {},
   "source": [
    "### Problem 17: The Captain's Room"
   ]
  },
  {
   "cell_type": "code",
   "execution_count": 72,
   "id": "cf87d007",
   "metadata": {},
   "outputs": [
    {
     "name": "stdout",
     "output_type": "stream",
     "text": [
      "5\n",
      "1 2 3 6 5 4 4 2 5 3 6 1 6 5 3 2 4 1 2 5 1 4 3 6 8 4 3 1 5 6 2 \n",
      "8\n"
     ]
    }
   ],
   "source": [
    "n = int(input())\n",
    "l = list(map(int,input().split()))\n",
    "\n",
    "for i in range(0,len(l)):\n",
    "    if l.count(l[i]) == n:\n",
    "        pass\n",
    "    else:\n",
    "        cap = l[i]\n",
    "    \n",
    "            \n",
    "    \n",
    "print(cap)"
   ]
  },
  {
   "cell_type": "markdown",
   "id": "12f25491",
   "metadata": {},
   "source": [
    "### Finding the room of the captain out of all the room numbers such that n is the number of member in a family with the same room. So the number that is not repeating is the captain's room.\n"
   ]
  },
  {
   "cell_type": "markdown",
   "id": "f594519a",
   "metadata": {},
   "source": [
    "### Problem 18: Check Subset"
   ]
  },
  {
   "cell_type": "code",
   "execution_count": 91,
   "id": "05c9aabb",
   "metadata": {},
   "outputs": [
    {
     "name": "stdout",
     "output_type": "stream",
     "text": [
      "3\n",
      "5\n",
      "1 2 3 5 6\n",
      "9\n",
      "9 8 5 6 3 2 1 4 7\n",
      "True\n",
      "1\n",
      "2\n",
      "5\n",
      "3 6 5 4 1\n",
      "False\n",
      "7\n",
      "1 2 3 5 6 8 9\n",
      "3\n",
      "9 8 2\n",
      "False\n"
     ]
    }
   ],
   "source": [
    "n = int(input())\n",
    "\n",
    "for i in range(0,n):\n",
    "    a = int(input())\n",
    "    A = set(map(int,input().split()))\n",
    "    a = int(input())\n",
    "    B = set(map(int,input().split()))\n",
    "    \n",
    "    if A.issubset(B):\n",
    "        print(True)\n",
    "    else:\n",
    "        print(False)\n",
    "\n",
    "    "
   ]
  },
  {
   "cell_type": "markdown",
   "id": "61cf7657",
   "metadata": {},
   "source": [
    "### The code checks if set A is a subset of B using the buildin function issubset() and outputs true if it is and false if it is not."
   ]
  },
  {
   "cell_type": "markdown",
   "id": "a376b20d",
   "metadata": {},
   "source": [
    "### Problem 19: Strict Superset"
   ]
  },
  {
   "cell_type": "code",
   "execution_count": 88,
   "id": "a2c0dd11",
   "metadata": {},
   "outputs": [
    {
     "name": "stdout",
     "output_type": "stream",
     "text": [
      "4\n",
      "5\n",
      "0\n",
      "1\n",
      "2\n",
      "3\n",
      "4\n"
     ]
    }
   ],
   "source": [
    "A = set(map(int,input().split()))\n",
    "n = int(input())\n",
    "c=0\n",
    "for i in range(n):\n",
    "    a = set(map(int,input().split()))\n",
    "    if A.issuperset(a):\n",
    "        c=c+1\n",
    "if c == n:\n",
    "    print(True)\n",
    "else:\n",
    "    print(False)\n",
    "    "
   ]
  },
  {
   "cell_type": "markdown",
   "id": "ad99fe4a",
   "metadata": {},
   "source": [
    "### The code checks if the set A is strictly the super set of the input sets."
   ]
  },
  {
   "cell_type": "code",
   "execution_count": null,
   "id": "50c3b52c",
   "metadata": {},
   "outputs": [],
   "source": []
  }
 ],
 "metadata": {
  "kernelspec": {
   "display_name": "Python 3",
   "language": "python",
   "name": "python3"
  },
  "language_info": {
   "codemirror_mode": {
    "name": "ipython",
    "version": 3
   },
   "file_extension": ".py",
   "mimetype": "text/x-python",
   "name": "python",
   "nbconvert_exporter": "python",
   "pygments_lexer": "ipython3",
   "version": "3.8.8"
  }
 },
 "nbformat": 4,
 "nbformat_minor": 5
}
