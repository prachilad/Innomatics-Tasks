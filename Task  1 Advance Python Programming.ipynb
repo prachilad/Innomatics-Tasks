{
 "cells": [
  {
   "cell_type": "markdown",
   "id": "6060b683",
   "metadata": {},
   "source": [
    "### Problem 1: Running Sum of 1d Array"
   ]
  },
  {
   "cell_type": "code",
   "execution_count": 20,
   "id": "cacb9887",
   "metadata": {},
   "outputs": [],
   "source": [
    "# Problem to solve is to add the numbers of input array upto a position and display the running sum array\n",
    "def runningSum(nums):\n",
    "    run_sum=[]\n",
    "    val = 0\n",
    "    for i in range(len(nums)):\n",
    "        val = val + nums[i]\n",
    "        run_sum.append(val)\n",
    "    return run_sum"
   ]
  },
  {
   "cell_type": "code",
   "execution_count": 22,
   "id": "91a543d0",
   "metadata": {},
   "outputs": [
    {
     "name": "stdout",
     "output_type": "stream",
     "text": [
      "Input:[1, 2, 3, 4]\n",
      "Output:[1, 3, 6, 10]\n"
     ]
    }
   ],
   "source": [
    "nums = [1,2,3,4]\n",
    "ans = runningSum(nums)\n",
    "print('Input:{}'.format(nums))\n",
    "print('Output:{}'.format(ans))"
   ]
  },
  {
   "cell_type": "markdown",
   "id": "cc783bbe",
   "metadata": {},
   "source": [
    "### Here in the output the first element is same as the input array, the second element 3 is sum of 1+2 from input array, then third element 6 is sum of 1+2+3 from the input array and so on."
   ]
  },
  {
   "cell_type": "markdown",
   "id": "f64cbf24",
   "metadata": {},
   "source": [
    "### Problem 2: Shuffle the Array"
   ]
  },
  {
   "cell_type": "code",
   "execution_count": 39,
   "id": "9df986db",
   "metadata": {},
   "outputs": [],
   "source": [
    "def shuffle(nums, n):\n",
    "    for i in range(n):\n",
    "        nums.insert(n+i-(n-1-i),nums[n+i]) #inserting the elements from second group of n elements at odd positions\n",
    "        nums.pop(n+1+i) # After inserting, the number is deleted from its original position\n",
    "            \n",
    "    return nums\n",
    "        "
   ]
  },
  {
   "cell_type": "code",
   "execution_count": 42,
   "id": "a186cb4b",
   "metadata": {},
   "outputs": [
    {
     "name": "stdout",
     "output_type": "stream",
     "text": [
      "Input:[2, 5, 1, 3, 4, 7]\n",
      "Output:[2, 3, 5, 4, 1, 7]\n"
     ]
    }
   ],
   "source": [
    "inp = [2,5,1,3,4,7]\n",
    "print('Input:{}'.format(inp))\n",
    "n=3\n",
    "ans = shuffle(inp,n)\n",
    "print('Output:{}'.format(ans))"
   ]
  },
  {
   "cell_type": "markdown",
   "id": "77c8273d",
   "metadata": {},
   "source": [
    "### The output is a shuffled array of the input. Given input number n which divides the input array as 2n elements. For eg. Given the input array and n=3 the first n elements would be 2,5,1 and second n elements would be 3,4,7. The program is shuffling the array such that first element of first n elements will be before the first element of second n elements. so 2,3 then 5,4 and 1,7 as seen in the above output."
   ]
  },
  {
   "cell_type": "markdown",
   "id": "342ababd",
   "metadata": {},
   "source": [
    "### Problem 3:"
   ]
  },
  {
   "cell_type": "code",
   "execution_count": 98,
   "id": "80ae2cd0",
   "metadata": {},
   "outputs": [],
   "source": [
    "def kidsWithCandies(candies, extraCandies):\n",
    "        ans = []\n",
    "        \n",
    "        for i in range(len(candies)):\n",
    "            c = 0\n",
    "            for j in candies:\n",
    "                if j <= candies[i] + extraCandies :\n",
    "                    c = c+1\n",
    "            if c == len(candies):\n",
    "                ans.insert(i,True)\n",
    "            else:\n",
    "                ans.insert(i,False)\n",
    "            \n",
    "        return ans"
   ]
  },
  {
   "cell_type": "code",
   "execution_count": 99,
   "id": "f66aae1e",
   "metadata": {},
   "outputs": [],
   "source": [
    "l = [12,1,12]\n",
    "ans = kidsWithCandies(l,10)"
   ]
  },
  {
   "cell_type": "code",
   "execution_count": 100,
   "id": "2b8a193d",
   "metadata": {},
   "outputs": [
    {
     "name": "stdout",
     "output_type": "stream",
     "text": [
      "Input:[12, 1, 12] 10\n",
      "Output:[True, False, True]\n"
     ]
    }
   ],
   "source": [
    "print('Input:{} {}'.format([12,1,12],10))\n",
    "print('Output:{}'.format(ans))"
   ]
  },
  {
   "cell_type": "markdown",
   "id": "80763eab",
   "metadata": {},
   "source": [
    "### The program gives an output a list of boolean values such that if the value is true then the ith person when given extra candies will have the greatest number of candies among the others in the input list and similarly the value will be false if it wont be greatest. \n",
    "### For eg in the input above, the first kid having 12 candies when given extra 10 candies will have a total of 22 candies will be greatest number in the list so in the output list it will be true. For the second kid having 1 candy when given extra 10 candies will have a total of 11 candies which is not greatest among others so it will have a value False in output list."
   ]
  },
  {
   "cell_type": "code",
   "execution_count": null,
   "id": "1dc13ed9",
   "metadata": {},
   "outputs": [],
   "source": []
  }
 ],
 "metadata": {
  "kernelspec": {
   "display_name": "Python 3",
   "language": "python",
   "name": "python3"
  },
  "language_info": {
   "codemirror_mode": {
    "name": "ipython",
    "version": 3
   },
   "file_extension": ".py",
   "mimetype": "text/x-python",
   "name": "python",
   "nbconvert_exporter": "python",
   "pygments_lexer": "ipython3",
   "version": "3.8.8"
  }
 },
 "nbformat": 4,
 "nbformat_minor": 5
}
