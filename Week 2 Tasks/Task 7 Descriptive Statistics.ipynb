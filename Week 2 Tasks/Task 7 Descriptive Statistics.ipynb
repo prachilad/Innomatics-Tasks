{
 "cells": [
  {
   "cell_type": "markdown",
   "id": "0644bb7e",
   "metadata": {},
   "source": [
    "## Descriptive Statistics"
   ]
  },
  {
   "cell_type": "code",
   "execution_count": 2,
   "id": "eddfc205",
   "metadata": {},
   "outputs": [
    {
     "data": {
      "text/html": [
       "<div>\n",
       "<style scoped>\n",
       "    .dataframe tbody tr th:only-of-type {\n",
       "        vertical-align: middle;\n",
       "    }\n",
       "\n",
       "    .dataframe tbody tr th {\n",
       "        vertical-align: top;\n",
       "    }\n",
       "\n",
       "    .dataframe thead th {\n",
       "        text-align: right;\n",
       "    }\n",
       "</style>\n",
       "<table border=\"1\" class=\"dataframe\">\n",
       "  <thead>\n",
       "    <tr style=\"text-align: right;\">\n",
       "      <th></th>\n",
       "      <th>Mthly_HH_Income</th>\n",
       "      <th>Mthly_HH_Expense</th>\n",
       "      <th>No_of_Fly_Members</th>\n",
       "      <th>Emi_or_Rent_Amt</th>\n",
       "      <th>Annual_HH_Income</th>\n",
       "      <th>Highest_Qualified_Member</th>\n",
       "      <th>No_of_Earning_Members</th>\n",
       "    </tr>\n",
       "  </thead>\n",
       "  <tbody>\n",
       "    <tr>\n",
       "      <th>0</th>\n",
       "      <td>5000</td>\n",
       "      <td>8000</td>\n",
       "      <td>3</td>\n",
       "      <td>2000</td>\n",
       "      <td>64200</td>\n",
       "      <td>Under-Graduate</td>\n",
       "      <td>1</td>\n",
       "    </tr>\n",
       "    <tr>\n",
       "      <th>1</th>\n",
       "      <td>6000</td>\n",
       "      <td>7000</td>\n",
       "      <td>2</td>\n",
       "      <td>3000</td>\n",
       "      <td>79920</td>\n",
       "      <td>Illiterate</td>\n",
       "      <td>1</td>\n",
       "    </tr>\n",
       "    <tr>\n",
       "      <th>2</th>\n",
       "      <td>10000</td>\n",
       "      <td>4500</td>\n",
       "      <td>2</td>\n",
       "      <td>0</td>\n",
       "      <td>112800</td>\n",
       "      <td>Under-Graduate</td>\n",
       "      <td>1</td>\n",
       "    </tr>\n",
       "    <tr>\n",
       "      <th>3</th>\n",
       "      <td>10000</td>\n",
       "      <td>2000</td>\n",
       "      <td>1</td>\n",
       "      <td>0</td>\n",
       "      <td>97200</td>\n",
       "      <td>Illiterate</td>\n",
       "      <td>1</td>\n",
       "    </tr>\n",
       "    <tr>\n",
       "      <th>4</th>\n",
       "      <td>12500</td>\n",
       "      <td>12000</td>\n",
       "      <td>2</td>\n",
       "      <td>3000</td>\n",
       "      <td>147000</td>\n",
       "      <td>Graduate</td>\n",
       "      <td>1</td>\n",
       "    </tr>\n",
       "  </tbody>\n",
       "</table>\n",
       "</div>"
      ],
      "text/plain": [
       "   Mthly_HH_Income  Mthly_HH_Expense  No_of_Fly_Members  Emi_or_Rent_Amt  \\\n",
       "0             5000              8000                  3             2000   \n",
       "1             6000              7000                  2             3000   \n",
       "2            10000              4500                  2                0   \n",
       "3            10000              2000                  1                0   \n",
       "4            12500             12000                  2             3000   \n",
       "\n",
       "   Annual_HH_Income Highest_Qualified_Member  No_of_Earning_Members  \n",
       "0             64200           Under-Graduate                      1  \n",
       "1             79920               Illiterate                      1  \n",
       "2            112800           Under-Graduate                      1  \n",
       "3             97200               Illiterate                      1  \n",
       "4            147000                 Graduate                      1  "
      ]
     },
     "execution_count": 2,
     "metadata": {},
     "output_type": "execute_result"
    }
   ],
   "source": [
    "import pandas as pd\n",
    "import numpy as np\n",
    "data = pd.read_csv('C:/Users/Admin/Downloads/data.csv')\n",
    "print(data.head())"
   ]
  },
  {
   "cell_type": "markdown",
   "id": "f16eae55",
   "metadata": {},
   "source": [
    "### Mean"
   ]
  },
  {
   "cell_type": "markdown",
   "id": "ca914346",
   "metadata": {},
   "source": [
    "<p> Mean is one of the measures of Central Tendency of data. It is simply the sum of all data points divided by the count of all the data points. The calculation of mean incorporates ALL the values in the data and the calculated mean may or maynot be present in the data.\n",
    "<p> Change in any value in the dataset will change the mean and hence mean is sensitive to the extreme values that influence the data set. \n",
    "<p> It is a good representative of the data when the data does not have extreme values.\n",
    "    \n",
    "$$mean = \\frac{1}{n} \\sum_{i=0}^{n}a_i$$\n",
    "<p>    \n",
    "    <center> n = total number of elements in set</center>\n",
    "    <center> a = element at position i</center>\n",
    "\n",
    "<p> Mean for a data set can be found in following ways:\n",
    "<ol>\n",
    "<li>Without Library: Make a function and pass each column in that to calculate the mean.</li>\n",
    "<li>Pandas library</li>\n",
    "    <ol>\n",
    "    <li> Dataframe.mean(axis=0) for calculation of mean by columns</li>\n",
    "    <li> describe() function gives all the descriptive statistics of dataframe</li>\n",
    "    </ol>\n",
    "<li>Numpy Library mean function</li>\n",
    "</ol>  "
   ]
  },
  {
   "cell_type": "code",
   "execution_count": 140,
   "id": "a58ac2ea",
   "metadata": {},
   "outputs": [
    {
     "name": "stdout",
     "output_type": "stream",
     "text": [
      "Mean of Mthly_HH_Income: 41558.0\n",
      "Mean of Mthly_HH_Expense: 18818.0\n",
      "Mean of No_of_Fly_Members: 4.06\n",
      "Mean of Emi_or_Rent_Amt: 3060.0\n",
      "Mean of Annual_HH_Income: 490019.04\n",
      "Mean of No_of_Earning_Members: 1.46\n"
     ]
    }
   ],
   "source": [
    "# Calculating mean without library\n",
    "def mean(col):\n",
    "    return sum(col)/len(col)\n",
    "numerical_cols=[i for i in data.columns if data.loc[:,i].dtype == 'int64']\n",
    "for i in numerical_cols:\n",
    "    col_mean = mean(data.loc[:,i])\n",
    "    \n",
    "    print('Mean of {}: {}'.format(i,col_mean))"
   ]
  },
  {
   "cell_type": "code",
   "execution_count": 4,
   "id": "13e0edeb",
   "metadata": {},
   "outputs": [
    {
     "data": {
      "text/plain": [
       "Mthly_HH_Income           41558.00\n",
       "Mthly_HH_Expense          18818.00\n",
       "No_of_Fly_Members             4.06\n",
       "Emi_or_Rent_Amt            3060.00\n",
       "Annual_HH_Income         490019.04\n",
       "No_of_Earning_Members         1.46\n",
       "dtype: float64"
      ]
     },
     "execution_count": 4,
     "metadata": {},
     "output_type": "execute_result"
    }
   ],
   "source": [
    "# Pandas library: dataframe.mean(axis=0)\n",
    "data.mean(axis=0)"
   ]
  },
  {
   "cell_type": "code",
   "execution_count": 104,
   "id": "c972fdcb",
   "metadata": {},
   "outputs": [
    {
     "data": {
      "text/plain": [
       "Mthly_HH_Income           41558.00\n",
       "Mthly_HH_Expense          18818.00\n",
       "No_of_Fly_Members             4.06\n",
       "Emi_or_Rent_Amt            3060.00\n",
       "Annual_HH_Income         490019.04\n",
       "No_of_Earning_Members         1.46\n",
       "Name: mean, dtype: float64"
      ]
     },
     "execution_count": 104,
     "metadata": {},
     "output_type": "execute_result"
    }
   ],
   "source": [
    "# Pandas library: describe() function\n",
    "data.describe().loc['mean',:]"
   ]
  },
  {
   "cell_type": "code",
   "execution_count": 95,
   "id": "b34d7abc",
   "metadata": {},
   "outputs": [
    {
     "name": "stdout",
     "output_type": "stream",
     "text": [
      "Mean of Mthly_HH_Expense is 18818.0\n"
     ]
    }
   ],
   "source": [
    "# Numpy\n",
    "col_arr = np.array(data['Mthly_HH_Expense']) # first converting column to numpy array\n",
    "print(\"Mean of {} is {}\".format('Mthly_HH_Expense',np.mean(col_arr))) # use np.mean()"
   ]
  },
  {
   "cell_type": "markdown",
   "id": "6b4614b0",
   "metadata": {},
   "source": [
    "### Median"
   ]
  },
  {
   "cell_type": "markdown",
   "id": "6685daaa",
   "metadata": {},
   "source": [
    "<p> Median is the middle value in the dataset. Median represents a point in the data wherein 50% of the data lies below and 50% of the data lies above the dataset. \n",
    "<p> Since Median is a position based measure of centrality, it is not sensitive or influenced by any extreme values in the dataset. If the total count of the data is odd, median is the middle value when the data is arranged in ascending order and if the total count is even then median will be the average of the middle two values when data is arranged in ascending order.\n",
    "    \n",
    "$$median = \\frac{\\text{no. of observations} + 1}{2}\\ \\text{th value in ordered data}$$ \n",
    "<p>    \n",
    "<center> Example, if number of observations = 7</center>\n",
    "    <center> Then, Number of observations + 1 = 8 </center>\n",
    "    <center> Median = 8/2 = 4th obseervation</center>\n",
    "    \n",
    "<p> Median for a data set can be found in following ways:\n",
    "<ol>\n",
    "<li>Without Library: Make a function and pass each column in that to calculate the median.</li>\n",
    "<li>Pandas library</li>\n",
    "    <ol>\n",
    "    <li> Dataframe.median(axis=0) for calculation of median by columns</li>\n",
    "    <li> describe() funaction gives all the descriptive statistics of dataframe</li>\n",
    "    </ol>\n",
    "<li>Numpy Library median function</li>\n",
    "</ol>  "
   ]
  },
  {
   "cell_type": "code",
   "execution_count": 193,
   "id": "6becb144",
   "metadata": {},
   "outputs": [
    {
     "name": "stdout",
     "output_type": "stream",
     "text": [
      "15500.0\n"
     ]
    }
   ],
   "source": [
    "# without library\n",
    "def median(vals):\n",
    "    n = len(vals)\n",
    "    sorted_vals = sorted(vals)\n",
    "    midpoint = n // 2\n",
    "    \n",
    "    if n % 2 == 1:\n",
    "        return sorted_vals[midpoint]\n",
    "    else:\n",
    "        return mean([sorted_vals[midpoint-1], sorted_vals[midpoint]])\n",
    "    \n",
    "ans=median(data['Mthly_HH_Expense'])\n",
    "print(ans)"
   ]
  },
  {
   "cell_type": "code",
   "execution_count": 96,
   "id": "f3406987",
   "metadata": {},
   "outputs": [
    {
     "data": {
      "text/plain": [
       "Mthly_HH_Income           35000.0\n",
       "Mthly_HH_Expense          15500.0\n",
       "No_of_Fly_Members             4.0\n",
       "Emi_or_Rent_Amt               0.0\n",
       "Annual_HH_Income         447420.0\n",
       "No_of_Earning_Members         1.0\n",
       "dtype: float64"
      ]
     },
     "execution_count": 96,
     "metadata": {},
     "output_type": "execute_result"
    }
   ],
   "source": [
    "# Pandas Library\n",
    "data.median(axis = 0)"
   ]
  },
  {
   "cell_type": "code",
   "execution_count": 103,
   "id": "9e541510",
   "metadata": {},
   "outputs": [
    {
     "data": {
      "text/plain": [
       "Mthly_HH_Income           35000.0\n",
       "Mthly_HH_Expense          15500.0\n",
       "No_of_Fly_Members             4.0\n",
       "Emi_or_Rent_Amt               0.0\n",
       "Annual_HH_Income         447420.0\n",
       "No_of_Earning_Members         1.0\n",
       "Name: 50%, dtype: float64"
      ]
     },
     "execution_count": 103,
     "metadata": {},
     "output_type": "execute_result"
    }
   ],
   "source": [
    "# Pandas library: describe() function\n",
    "data.describe().loc['50%',:]"
   ]
  },
  {
   "cell_type": "code",
   "execution_count": 105,
   "id": "dd023332",
   "metadata": {},
   "outputs": [
    {
     "name": "stdout",
     "output_type": "stream",
     "text": [
      "Mean of Mthly_HH_Expense is 15500.0\n"
     ]
    }
   ],
   "source": [
    "# Numpy\n",
    "col_arr = np.array(data['Mthly_HH_Expense']) # first converting column to numpy array\n",
    "print(\"Mean of {} is {}\".format('Mthly_HH_Expense',np.median(col_arr))) # use np.mean()"
   ]
  },
  {
   "cell_type": "markdown",
   "id": "0f21a8c1",
   "metadata": {},
   "source": [
    "### Mode"
   ]
  },
  {
   "cell_type": "markdown",
   "id": "38eb08dc",
   "metadata": {},
   "source": [
    "<p> Mode represents the frequently occuring data points in the entire dataset. It is generally used more often with qualitative/categorical data. Mode is a frequency based measure of centrality. Due to this nature, mode is also not affected by extreme values that influence the dataset.\n",
    "<p> A dataset can have more than one mode values and that can be a disadvantage of using mode as a measure of centrality in some situations.    "
   ]
  },
  {
   "cell_type": "code",
   "execution_count": 191,
   "id": "3079a236",
   "metadata": {},
   "outputs": [
    {
     "name": "stdout",
     "output_type": "stream",
     "text": [
      "Graduate\n"
     ]
    }
   ],
   "source": [
    "# Function for calculating mode of any column\n",
    "def mode(col):\n",
    "    return data[col].value_counts().index[0]\n",
    "    \n",
    "ans = mode('Highest_Qualified_Member')\n",
    "print(ans)"
   ]
  },
  {
   "cell_type": "code",
   "execution_count": 111,
   "id": "b919a674",
   "metadata": {},
   "outputs": [
    {
     "data": {
      "text/html": [
       "<div>\n",
       "<style scoped>\n",
       "    .dataframe tbody tr th:only-of-type {\n",
       "        vertical-align: middle;\n",
       "    }\n",
       "\n",
       "    .dataframe tbody tr th {\n",
       "        vertical-align: top;\n",
       "    }\n",
       "\n",
       "    .dataframe thead th {\n",
       "        text-align: right;\n",
       "    }\n",
       "</style>\n",
       "<table border=\"1\" class=\"dataframe\">\n",
       "  <thead>\n",
       "    <tr style=\"text-align: right;\">\n",
       "      <th></th>\n",
       "      <th>Mthly_HH_Income</th>\n",
       "      <th>Mthly_HH_Expense</th>\n",
       "      <th>No_of_Fly_Members</th>\n",
       "      <th>Emi_or_Rent_Amt</th>\n",
       "      <th>Annual_HH_Income</th>\n",
       "      <th>Highest_Qualified_Member</th>\n",
       "      <th>No_of_Earning_Members</th>\n",
       "    </tr>\n",
       "  </thead>\n",
       "  <tbody>\n",
       "    <tr>\n",
       "      <th>0</th>\n",
       "      <td>45000</td>\n",
       "      <td>25000</td>\n",
       "      <td>4</td>\n",
       "      <td>0</td>\n",
       "      <td>590400</td>\n",
       "      <td>Graduate</td>\n",
       "      <td>1</td>\n",
       "    </tr>\n",
       "  </tbody>\n",
       "</table>\n",
       "</div>"
      ],
      "text/plain": [
       "   Mthly_HH_Income  Mthly_HH_Expense  No_of_Fly_Members  Emi_or_Rent_Amt  \\\n",
       "0            45000             25000                  4                0   \n",
       "\n",
       "   Annual_HH_Income Highest_Qualified_Member  No_of_Earning_Members  \n",
       "0            590400                 Graduate                      1  "
      ]
     },
     "execution_count": 111,
     "metadata": {},
     "output_type": "execute_result"
    }
   ],
   "source": [
    "# Pandas Library\n",
    "data.mode()"
   ]
  },
  {
   "cell_type": "markdown",
   "id": "853074a7",
   "metadata": {},
   "source": [
    "### Variance"
   ]
  },
  {
   "cell_type": "markdown",
   "id": "d418521d",
   "metadata": {},
   "source": [
    "<p> Variance is based on distances from the mean. It is calculated by taking the sum of differences of squares of distances of each data point from the mean divided by the number of data points.\n",
    "<p> It is squared to get only positive differences and to emphasize large values along with minimizing small values. Positive differences helps preventing differences above the mean from cancelling out the differences below the mean which would result in zero variance.\n",
    "<p> Because the calculations use the squared differences, the variance is in squared units rather the original units of the data.Unlike the previous measures of variability, this measure takes into account all the values in the dataset and hence it is also prone to being affected by outliers.\n",
    "\n",
    "$$\\sigma^2 = \\frac{\\displaystyle\\sum_{i=1}^{n}(x_i - \\mu)^2} {n}$$\n",
    "    \n",
    "<p>    \n",
    "     $$\\sigma^2 = \\text{Variance of population}$$ \n",
    "     $$\\mu = \\text{mean of population}$$\n",
    "     $$n = \\text{total number of elements}$$"
   ]
  },
  {
   "cell_type": "code",
   "execution_count": 127,
   "id": "ad83e41b",
   "metadata": {},
   "outputs": [
    {
     "data": {
      "text/plain": [
       "Mthly_HH_Income          6.811009e+08\n",
       "Mthly_HH_Expense         1.461733e+08\n",
       "No_of_Fly_Members        2.302449e+00\n",
       "Emi_or_Rent_Amt          3.895551e+07\n",
       "Annual_HH_Income         1.024869e+11\n",
       "No_of_Earning_Members    5.391837e-01\n",
       "dtype: float64"
      ]
     },
     "execution_count": 127,
     "metadata": {},
     "output_type": "execute_result"
    }
   ],
   "source": [
    "# Pandas library: describe() function\n",
    "data.var(axis=0)"
   ]
  },
  {
   "cell_type": "code",
   "execution_count": 128,
   "id": "3c6d3869",
   "metadata": {},
   "outputs": [
    {
     "name": "stdout",
     "output_type": "stream",
     "text": [
      "Mean of Mthly_HH_Expense is 143249876.0\n"
     ]
    }
   ],
   "source": [
    "# Numpy\n",
    "col_arr = np.array(data['Mthly_HH_Expense']) # first converting column to numpy array\n",
    "print(\"Variance of {} is {}\".format('Mthly_HH_Expense',np.var(col_arr))) # use np.mean()"
   ]
  },
  {
   "cell_type": "markdown",
   "id": "996cb790",
   "metadata": {},
   "source": [
    "### Standard Deviation"
   ]
  },
  {
   "cell_type": "markdown",
   "id": "19b02b0d",
   "metadata": {},
   "source": [
    "<p> Variance had a limitation of not having the same unit as the data set. This change in unit doesn’t help us in understanding and interpreting what the calculated  variance means for the dataset. This limitation can be resolved by using Standard Deviation.\n",
    "<p> Standard deviation is technically the square root of variance. It is the most robust and widely used measure of variability as unlike Range, IQR, it takes into account all values present in the dataset and its variability is also measured in the same unit as that of the dataset making it more preferred over Variance.\n",
    "<p> Low value of Standard Deviation means less variability, heavy clustering around the central measure and more consistency in the dataset. High value of Standard Deviation means more variability, more dispersion from the central measure and more inconsistency in the dataset. \n",
    "\n",
    " $$\\sigma = \\sqrt \\frac{\\displaystyle\\sum_{i=1}^{n}(x_i - \\mu)^2} {n}$$  \n",
    "      \n",
    "    \n",
    " $$\\sigma = \\text{Standard Deviation}$$"
   ]
  },
  {
   "cell_type": "code",
   "execution_count": 130,
   "id": "34c9f434",
   "metadata": {},
   "outputs": [
    {
     "name": "stdout",
     "output_type": "stream",
     "text": [
      "Standard Deviation of Mthly_HH_Expense is 11968.704023410388\n"
     ]
    }
   ],
   "source": [
    "# Numpy\n",
    "col_arr = np.array(data['Mthly_HH_Expense']) # first converting column to numpy array\n",
    "print(\"Standard Deviation of {} is {}\".format('Mthly_HH_Expense',np.std(col_arr))) # use np.mean()"
   ]
  },
  {
   "cell_type": "code",
   "execution_count": 132,
   "id": "fa0de09c",
   "metadata": {},
   "outputs": [
    {
     "data": {
      "text/plain": [
       "Mthly_HH_Income           26097.908979\n",
       "Mthly_HH_Expense          12090.216824\n",
       "No_of_Fly_Members             1.517382\n",
       "Emi_or_Rent_Amt            6241.434948\n",
       "Annual_HH_Income         320135.792123\n",
       "No_of_Earning_Members         0.734291\n",
       "dtype: float64"
      ]
     },
     "execution_count": 132,
     "metadata": {},
     "output_type": "execute_result"
    }
   ],
   "source": [
    "# Pandas\n",
    "data.std()"
   ]
  },
  {
   "cell_type": "markdown",
   "id": "f0ea976c",
   "metadata": {},
   "source": [
    "### Correlation"
   ]
  },
  {
   "cell_type": "markdown",
   "id": "a6a0afe0",
   "metadata": {},
   "source": [
    "<p> The absolute value of the correlation coefficient gives us the relationship strength between two variables. The larger the number, the stronger the relationship. The sign signifies whether the relationship is positive or negative.</p> \n",
    "<p>For example, | |-.75| = .75, which has a stronger relationship than .65. Correlation is denoted by the symbol r.</p><br>\n",
    "    \n",
    "<center>Correlation is calculated by:</center><br>\n",
    "$$ r = \\frac{N\\sum{XY}-(\\sum{X}\\sum{Y})}{\\sqrt{ [N \\sum{x^2}-(\\sum{x})^2 ][N \\sum{y^2}-(\\sum{y})^2 }]} $$"
   ]
  },
  {
   "cell_type": "code",
   "execution_count": 133,
   "id": "b13425ff",
   "metadata": {},
   "outputs": [
    {
     "data": {
      "text/html": [
       "<div>\n",
       "<style scoped>\n",
       "    .dataframe tbody tr th:only-of-type {\n",
       "        vertical-align: middle;\n",
       "    }\n",
       "\n",
       "    .dataframe tbody tr th {\n",
       "        vertical-align: top;\n",
       "    }\n",
       "\n",
       "    .dataframe thead th {\n",
       "        text-align: right;\n",
       "    }\n",
       "</style>\n",
       "<table border=\"1\" class=\"dataframe\">\n",
       "  <thead>\n",
       "    <tr style=\"text-align: right;\">\n",
       "      <th></th>\n",
       "      <th>Mthly_HH_Income</th>\n",
       "      <th>Mthly_HH_Expense</th>\n",
       "      <th>No_of_Fly_Members</th>\n",
       "      <th>Emi_or_Rent_Amt</th>\n",
       "      <th>Annual_HH_Income</th>\n",
       "      <th>No_of_Earning_Members</th>\n",
       "    </tr>\n",
       "  </thead>\n",
       "  <tbody>\n",
       "    <tr>\n",
       "      <th>Mthly_HH_Income</th>\n",
       "      <td>1.000000</td>\n",
       "      <td>0.649215</td>\n",
       "      <td>0.448317</td>\n",
       "      <td>0.036976</td>\n",
       "      <td>0.970315</td>\n",
       "      <td>0.347883</td>\n",
       "    </tr>\n",
       "    <tr>\n",
       "      <th>Mthly_HH_Expense</th>\n",
       "      <td>0.649215</td>\n",
       "      <td>1.000000</td>\n",
       "      <td>0.639702</td>\n",
       "      <td>0.405280</td>\n",
       "      <td>0.591222</td>\n",
       "      <td>0.311915</td>\n",
       "    </tr>\n",
       "    <tr>\n",
       "      <th>No_of_Fly_Members</th>\n",
       "      <td>0.448317</td>\n",
       "      <td>0.639702</td>\n",
       "      <td>1.000000</td>\n",
       "      <td>0.085808</td>\n",
       "      <td>0.430868</td>\n",
       "      <td>0.597482</td>\n",
       "    </tr>\n",
       "    <tr>\n",
       "      <th>Emi_or_Rent_Amt</th>\n",
       "      <td>0.036976</td>\n",
       "      <td>0.405280</td>\n",
       "      <td>0.085808</td>\n",
       "      <td>1.000000</td>\n",
       "      <td>0.002716</td>\n",
       "      <td>-0.097431</td>\n",
       "    </tr>\n",
       "    <tr>\n",
       "      <th>Annual_HH_Income</th>\n",
       "      <td>0.970315</td>\n",
       "      <td>0.591222</td>\n",
       "      <td>0.430868</td>\n",
       "      <td>0.002716</td>\n",
       "      <td>1.000000</td>\n",
       "      <td>0.296679</td>\n",
       "    </tr>\n",
       "    <tr>\n",
       "      <th>No_of_Earning_Members</th>\n",
       "      <td>0.347883</td>\n",
       "      <td>0.311915</td>\n",
       "      <td>0.597482</td>\n",
       "      <td>-0.097431</td>\n",
       "      <td>0.296679</td>\n",
       "      <td>1.000000</td>\n",
       "    </tr>\n",
       "  </tbody>\n",
       "</table>\n",
       "</div>"
      ],
      "text/plain": [
       "                       Mthly_HH_Income  Mthly_HH_Expense  No_of_Fly_Members  \\\n",
       "Mthly_HH_Income               1.000000          0.649215           0.448317   \n",
       "Mthly_HH_Expense              0.649215          1.000000           0.639702   \n",
       "No_of_Fly_Members             0.448317          0.639702           1.000000   \n",
       "Emi_or_Rent_Amt               0.036976          0.405280           0.085808   \n",
       "Annual_HH_Income              0.970315          0.591222           0.430868   \n",
       "No_of_Earning_Members         0.347883          0.311915           0.597482   \n",
       "\n",
       "                       Emi_or_Rent_Amt  Annual_HH_Income  \\\n",
       "Mthly_HH_Income               0.036976          0.970315   \n",
       "Mthly_HH_Expense              0.405280          0.591222   \n",
       "No_of_Fly_Members             0.085808          0.430868   \n",
       "Emi_or_Rent_Amt               1.000000          0.002716   \n",
       "Annual_HH_Income              0.002716          1.000000   \n",
       "No_of_Earning_Members        -0.097431          0.296679   \n",
       "\n",
       "                       No_of_Earning_Members  \n",
       "Mthly_HH_Income                     0.347883  \n",
       "Mthly_HH_Expense                    0.311915  \n",
       "No_of_Fly_Members                   0.597482  \n",
       "Emi_or_Rent_Amt                    -0.097431  \n",
       "Annual_HH_Income                    0.296679  \n",
       "No_of_Earning_Members               1.000000  "
      ]
     },
     "execution_count": 133,
     "metadata": {},
     "output_type": "execute_result"
    }
   ],
   "source": [
    "#Pandas\n",
    "data.corr()"
   ]
  },
  {
   "cell_type": "markdown",
   "id": "fbd19bad",
   "metadata": {},
   "source": [
    "### Normal Distribution"
   ]
  },
  {
   "cell_type": "markdown",
   "id": "31c886ac",
   "metadata": {},
   "source": [
    "<p> Normal Distribution is a symmetrical arrangement of a data set in which most values cluster in the mean and the rest taper off symmetrically towards either extreme. Many continuous data in nature display this bell shaped curve when compiled and graphed.</p>\n",
    "<img src=\"normal-distribution.jpg\" alt=\"fishy\" class=\"bg-primary\" width=\"400px\">\n",
    "   \n",
    "<p> The data is centered about the Mean-Mode-Median. The probability a score is above the mean is 50% and the probability a score is below the mean is 50%.</p>\n",
    "    \n",
    "\n",
    "\n",
    "\n",
    "**Standard Normal Distribution**\n",
    "<p> The standard normal distribution is a normal distribution with a mean of zero and standard deviation of 1. The standard normal distribution is centered at zero and the degree to which a given measurement deviates from the mean is given by the standard deviation. \n",
    "<img src=\"standard-normal-distribution-1024x633.png\" alt=\"fishy\" class=\"bg-primary\" width=\"500px\">    \n",
    " \n"
   ]
  },
  {
   "cell_type": "markdown",
   "id": "cb097580",
   "metadata": {},
   "source": [
    "### Features of Normal Distribution"
   ]
  },
  {
   "cell_type": "markdown",
   "id": "ef7a6988",
   "metadata": {},
   "source": [
    "<ul>\n",
    "\n",
    "<li>X axis has the values of the variable and Y axis is the Probability Density value found out by the formula:</li>\n",
    "$$f(x) = \\frac{1}{\\sigma\\sqrt{2\\pi}} \\exp\\left( -\\frac{1}{2}\\left(\\frac{x-\\mu}{\\sigma}\\right)^{\\!2}\\,\\right)$$\n",
    "\n",
    "<li> 68% of data lies within 1 SD, 95% within 2 SD and 99.7% within 3 SD. Values lying outside are\n",
    "    outliers.</li>\n",
    "<img src=\"standard-normal-distribution.jpg\" alt=\"fishy\" class=\"bg-primary\" width=\"350px\"><br>\n",
    "<li> The standard score is the number of standard deviations by which the value of a raw score is above or below the mean value.\n",
    "<li> Only cumulative probabilities exists. At a particular point, the probability is always zero.</li>\n",
    "<li> The area under the curve is equal to 1.</li>\n",
    "\n",
    "</ul>"
   ]
  },
  {
   "cell_type": "markdown",
   "id": "5b1c5c35",
   "metadata": {},
   "source": [
    "### Positively and Negatively Skewed Normal Distribution\n"
   ]
  },
  {
   "cell_type": "markdown",
   "id": "fbaad89f",
   "metadata": {},
   "source": [
    "**Positively Skewed Distribution**<p> In statistics, a positively skewed (or right-skewed) distribution is a type of distribution in which most values are clustered around the left tail of the distribution while the right tail of the distribution is longer.</p>\n",
    "\n",
    "**Negatively Skewed Distribution**<p>In statistics, a negatively skewed (or left-skewed) distribution is a type of distribution in which most values are clustered around the right tail of the distribution while the left tail of the distribution is longer.\n",
    "\n",
    "\n",
    "\n",
    "\n",
    "<img src=\"Skew.png\" alt=\"fishy\" class=\"bg-primary\" width=\"600px\"><br>\n",
    "    <p> Some Important Points About Skews:</p>\n",
    "<ul>\n",
    "    <li> Positive Skew: Mean > Median. The right hand tail is longer.</li>\n",
    "    <li> Negative Skew: Mean < Median. The left hand tail is longer. </li>\n",
    "    <li> No Skew: Mean ~ Median ~ Mode</li>\n",
    "    <li> Mode is always the x axis value at the peak.</li>\n",
    "    "
   ]
  },
  {
   "cell_type": "markdown",
   "id": "d1409e48",
   "metadata": {},
   "source": [
    "### QQ Plot"
   ]
  },
  {
   "cell_type": "markdown",
   "id": "1756fa50",
   "metadata": {},
   "source": [
    "<p> The quantile-quantile (q-q) plot is a graphical technique for determining if two data sets come from populations with a common distribution. A q-q plot is a plot of the quantiles of the first data set against the quantiles of the second data set. By a quantile, we mean the fraction (or percent) of points below the given value. That is, the 0.3 (or 30%) quantile is the point at which 30% percent of the data fall below and 70% fall above that value.\n",
    "<p> A 45-degree reference line is also plotted. If the two sets come from a population with the same distribution, the points should fall approximately along this reference line. The greater the departure from this reference line, the greater the evidence for the conclusion that the two data sets have come from populations with different distributions.\n",
    "<p> Advantages of QQ plot:\n",
    "    <ul>\n",
    "        <li> The sample sizes do not need to be equal.</li>\n",
    "        <li> Many distributional aspects can be simultaneously tested like</li>\n",
    "        <ul>\n",
    "            <li> shifts in location, shifts in scale, changes in symmetry, and the presence of outliers can all be detected from this plot.</li>\n",
    "            <li> if the two data sets come from populations whose distributions differ only by a shift in location, the points should lie along a straight line that is displaced either up or down from the 45-degree reference line.</li>\n",
    "        </ul>\n",
    "    </ul>"
   ]
  },
  {
   "cell_type": "code",
   "execution_count": 207,
   "id": "93ff9561",
   "metadata": {},
   "outputs": [
    {
     "data": {
      "image/png": "[encoded data removed]",
      "text/plain": [
       "<Figure size 432x288 with 1 Axes>"
      ]
     },
     "metadata": {
      "needs_background": "light"
     },
     "output_type": "display_data"
    }
   ],
   "source": [
    "from statsmodels.graphics.gofplots import qqplot\n",
    "from matplotlib import pyplot as plt\n",
    "from scipy.stats import norm, uniform\n",
    "x = np.array(data.loc[:,numerical_cols]).astype('float64')\n",
    "qqplot(x,norm,fit=True,line=\"45\")\n",
    "plt.show()"
   ]
  },
  {
   "cell_type": "code",
   "execution_count": null,
   "id": "c6afca09",
   "metadata": {},
   "outputs": [],
   "source": []
  },
  {
   "cell_type": "markdown",
   "id": "2d1c563e",
   "metadata": {},
   "source": [
    "### Box Cox"
   ]
  },
  {
   "cell_type": "markdown",
   "id": "07eb2575",
   "metadata": {},
   "source": [
    "<p> A Box Cox transformation is a transformation of non-normal dependent variables into a normal shape. Normality is an important assumption for many statistical techniques; if your data isn’t normal, applying a Box-Cox means that you are able to run a broader number of tests.\n",
    "<p> \n"
   ]
  },
  {
   "cell_type": "code",
   "execution_count": 211,
   "id": "064935ab",
   "metadata": {},
   "outputs": [
    {
     "data": {
      "text/plain": [
       "Text(0.5, 1.0, 'Probplot after Box-Cox transformation')"
      ]
     },
     "execution_count": 211,
     "metadata": {},
     "output_type": "execute_result"
    },
    {
     "data": {
      "image/png": "[encoded data removed]",
      "text/plain": [
       "<Figure size 432x288 with 2 Axes>"
      ]
     },
     "metadata": {
      "needs_background": "light"
     },
     "output_type": "display_data"
    }
   ],
   "source": [
    "from scipy import stats\n",
    "import matplotlib.pyplot as plt\n",
    "\n",
    "x = np.array(data['Mthly_HH_Income'])\n",
    "fig = plt.figure()\n",
    "ax1 = fig.add_subplot(211)\n",
    "prob = stats.probplot(x, dist=stats.norm, plot=ax1)\n",
    "ax1.set_xlabel('')\n",
    "ax1.set_title('Probplot against normal distribution')\n",
    "\n",
    "ax2 = fig.add_subplot(212)\n",
    "xt, _ = stats.boxcox(x)\n",
    "prob = stats.probplot(xt, dist=stats.norm, plot=ax2)\n",
    "ax2.set_title('Probplot after Box-Cox transformation')"
   ]
  },
  {
   "cell_type": "code",
   "execution_count": null,
   "id": "d823cc0a",
   "metadata": {},
   "outputs": [],
   "source": []
  }
 ],
 "metadata": {
  "kernelspec": {
   "display_name": "Python 3",
   "language": "python",
   "name": "python3"
  },
  "language_info": {
   "codemirror_mode": {
    "name": "ipython",
    "version": 3
   },
   "file_extension": ".py",
   "mimetype": "text/x-python",
   "name": "python",
   "nbconvert_exporter": "python",
   "pygments_lexer": "ipython3",
   "version": "3.8.8"
  }
 },
 "nbformat": 4,
 "nbformat_minor": 5
}
