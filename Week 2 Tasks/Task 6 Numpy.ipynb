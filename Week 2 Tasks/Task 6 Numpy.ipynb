{
 "cells": [
  {
   "cell_type": "markdown",
   "id": "292afd50",
   "metadata": {},
   "source": [
    "### Problem 1: Arrays"
   ]
  },
  {
   "cell_type": "code",
   "execution_count": 7,
   "id": "dc8719d3",
   "metadata": {},
   "outputs": [
    {
     "name": "stdout",
     "output_type": "stream",
     "text": [
      "3 4 6 8\n",
      "[8. 6. 4. 3.]\n"
     ]
    }
   ],
   "source": [
    "import numpy as np\n",
    "\n",
    "def arrays(arr):\n",
    "    # The input list is first converted to numpy array\n",
    "    # Then the type of elements is changed to float value\n",
    "    # Finally the array is reversed using the flip function of numpy.\n",
    "    return numpy.flip(np.array(arr).astype(np.float64))\n",
    "\n",
    "arr = input().strip().split(' ')\n",
    "result = arrays(arr)\n",
    "print(result)"
   ]
  },
  {
   "cell_type": "markdown",
   "id": "93a638d9",
   "metadata": {},
   "source": [
    "### Problem 2: Shape & Reshape"
   ]
  },
  {
   "cell_type": "code",
   "execution_count": 6,
   "id": "0394c990",
   "metadata": {},
   "outputs": [
    {
     "name": "stdout",
     "output_type": "stream",
     "text": [
      "1 2 3 4 5 6 7 8 9\n",
      "Reshaped Array:\n",
      " [[1 2 3]\n",
      " [4 5 6]\n",
      " [7 8 9]]\n"
     ]
    }
   ],
   "source": [
    "arr = input().strip().split(' ')\n",
    "# The input list is converted to numpy array and reshaped into a 2-D array using\n",
    "# the reshape function by specifying the shape.\n",
    "print(\"Reshaped Array:\\n\",numpy.reshape(numpy.array(arr).astype(numpy.int32),(3,3)))"
   ]
  },
  {
   "cell_type": "markdown",
   "id": "fed17621",
   "metadata": {},
   "source": [
    "### Problem 3: Transpose and Flatten"
   ]
  },
  {
   "cell_type": "code",
   "execution_count": 7,
   "id": "7aba8587",
   "metadata": {},
   "outputs": [
    {
     "name": "stdout",
     "output_type": "stream",
     "text": [
      "2 2\n",
      "2 3\n",
      "3 4\n",
      "Input Array:  [[2, 3], [3, 4]]\n",
      "Transpose of array:\n",
      " [[2 3]\n",
      " [3 4]]\n",
      "Flattened array:\n",
      " [2 3 3 4]\n"
     ]
    }
   ],
   "source": [
    "import numpy \n",
    "n, m = map(int,input().split())\n",
    "# \n",
    "rows = [list(map(int,input().split())) for i in range(n)]\n",
    "print(\"Input Array: \",rows)\n",
    "arr = numpy.array(rows)\n",
    "\n",
    "print(\"Transpose of array:\\n\",numpy.transpose(arr))\n",
    "print(\"Flattened array:\\n\",arr.flatten())\n",
    "\n"
   ]
  },
  {
   "cell_type": "markdown",
   "id": "caa04572",
   "metadata": {},
   "source": [
    "### Problem 4: Zeroes and One"
   ]
  },
  {
   "cell_type": "code",
   "execution_count": 10,
   "id": "f6a41fa8",
   "metadata": {},
   "outputs": [
    {
     "name": "stdout",
     "output_type": "stream",
     "text": [
      "2 2 2\n",
      "\n",
      "Zeros array\n",
      " [[[0 0]\n",
      "  [0 0]]\n",
      "\n",
      " [[0 0]\n",
      "  [0 0]]]\n",
      "\n",
      " Ones array\n",
      " [[[1 1]\n",
      "  [1 1]]\n",
      "\n",
      " [[1 1]\n",
      "  [1 1]]]\n"
     ]
    }
   ],
   "source": [
    "import numpy\n",
    "\n",
    "N = tuple(map(int, input().split()))\n",
    "print(\"\\nZeros array\\n\",numpy.zeros(N, int))\n",
    "print(\"\\n Ones array\\n\",numpy.ones(N, int))\n"
   ]
  },
  {
   "cell_type": "markdown",
   "id": "3e74d3bd",
   "metadata": {},
   "source": [
    "### Problem 5: Concatenate"
   ]
  },
  {
   "cell_type": "code",
   "execution_count": 11,
   "id": "576f677e",
   "metadata": {},
   "outputs": [
    {
     "name": "stdout",
     "output_type": "stream",
     "text": [
      "4 3 2\n",
      "1 2\n",
      "1 2\n",
      "1 2\n",
      "1 2\n",
      "3 4\n",
      "2 4\n",
      "3 5\n",
      "Array 1:  [[1, 2], [1, 2], [1, 2], [1, 2]]\n",
      "Array 2:  [[3, 4], [2, 4], [3, 5]]\n",
      "Concatenated Array:\n",
      " [[1 2]\n",
      " [1 2]\n",
      " [1 2]\n",
      " [1 2]\n",
      " [3 4]\n",
      " [2 4]\n",
      " [3 5]]\n"
     ]
    }
   ],
   "source": [
    "n,m,p = map(int,input().split())\n",
    "\n",
    "arr1 = [list(map(int,input().split())) for i in range(n)] \n",
    "arr2 = [list(map(int,input().split())) for i in range(m)]\n",
    "print(\"Array 1: \",arr1)\n",
    "print(\"Array 2: \",arr2)\n",
    "print(\"Concatenated Array:\\n\",numpy.concatenate((arr1,arr2),axis=0)) # concatenate arrays on axis = 0 i.e by rows"
   ]
  },
  {
   "cell_type": "markdown",
   "id": "813917a9",
   "metadata": {},
   "source": [
    "###  Problem 6: Eye and Identity"
   ]
  },
  {
   "cell_type": "code",
   "execution_count": 12,
   "id": "b173cae1",
   "metadata": {},
   "outputs": [
    {
     "name": "stdout",
     "output_type": "stream",
     "text": [
      "3 3\n",
      "Identity matrix:\n",
      "\n",
      "[[1. 0. 0.]\n",
      " [0. 1. 0.]\n",
      " [0. 0. 1.]]\n"
     ]
    }
   ],
   "source": [
    "n,m = map(int,input().split())\n",
    "print(\"Identity matrix:\\n\")\n",
    "if n==m:\n",
    "    print(numpy.identity(n))\n",
    "else:\n",
    "    print(numpy.eye(n,m))"
   ]
  },
  {
   "cell_type": "markdown",
   "id": "b47259cd",
   "metadata": {},
   "source": [
    "### Problem 7: Array Mathematics"
   ]
  },
  {
   "cell_type": "code",
   "execution_count": 13,
   "id": "aaa2f2b6",
   "metadata": {},
   "outputs": [
    {
     "name": "stdout",
     "output_type": "stream",
     "text": [
      "1 4\n",
      "1 2 3 4\n",
      "5 6 7 8\n",
      "Array 1:  [[1 2 3 4]]\n",
      "Array 2:  [[5 6 7 8]]\n",
      "Array Addition:  [[ 6  8 10 12]]\n",
      "Array subtraction:  [[-4 -4 -4 -4]]\n",
      "Array Mul:  [[ 5 12 21 32]]\n",
      "Array Division:  [[0 0 0 0]]\n",
      "Array mod:  [[1 2 3 4]]\n",
      "Power:  [[    1    64  2187 65536]]\n"
     ]
    }
   ],
   "source": [
    "n,m = map(int,input().split())\n",
    "arr1 = numpy.array([list(map(int,input().split())) for i in range(n)])\n",
    "arr2 = numpy.array([list(map(int,input().split())) for i in range(n)])\n",
    "print(\"Array 1: \",arr1)\n",
    "print(\"Array 2: \",arr2)\n",
    "print(\"Array Addition: \",numpy.add(arr1,arr2))\n",
    "print(\"Array subtraction: \",numpy.subtract(arr1,arr2))\n",
    "print(\"Array Mul: \",numpy.multiply(arr1,arr2))\n",
    "print(\"Array Division: \",arr1//arr2)\n",
    "print(\"Array mod: \",numpy.mod(arr1,arr2))\n",
    "print(\"Power: \",numpy.power(arr1,arr2))"
   ]
  },
  {
   "cell_type": "markdown",
   "id": "dc912f62",
   "metadata": {},
   "source": [
    "### Problem 8: floor, ceil, rint"
   ]
  },
  {
   "cell_type": "code",
   "execution_count": 14,
   "id": "a8a14619",
   "metadata": {},
   "outputs": [
    {
     "name": "stdout",
     "output_type": "stream",
     "text": [
      "1.1 2.3 4.4 6.7 8.8 4.5 9.7\n",
      "Input Array:  [ 1.1  2.3  4.4  6.7  8.8  4.5  9.7]\n",
      "Floor of Array:  [ 1.  2.  4.  6.  8.  4.  9.]\n",
      "Ceil of Array:  [  2.   3.   5.   7.   9.   5.  10.]\n",
      "Rint of Array: \n",
      "[  1.   2.   4.   7.   9.   4.  10.]\n"
     ]
    }
   ],
   "source": [
    "numpy.set_printoptions(legacy='1.13')\n",
    "\n",
    "arr2 = numpy.array(list(map(float,input().split())))\n",
    "print(\"Input Array: \",arr2)\n",
    "print(\"Floor of Array: \",numpy.floor(arr2))\n",
    "print(\"Ceil of Array: \",numpy.ceil(arr2))\n",
    "print(\"Rint of Array: \",numpy.rint(arr2),sep='\\n')"
   ]
  },
  {
   "cell_type": "markdown",
   "id": "3dee0d70",
   "metadata": {},
   "source": [
    "### Problem 9: Sum and Prod"
   ]
  },
  {
   "cell_type": "code",
   "execution_count": 15,
   "id": "d26f063e",
   "metadata": {},
   "outputs": [
    {
     "name": "stdout",
     "output_type": "stream",
     "text": [
      "2 2\n",
      "1 2\n",
      "3 4\n",
      "Input Array:  [[1 2]\n",
      " [3 4]]\n",
      "Sum of elements ny row:  [4 6]\n",
      "Product of the sum:  24\n"
     ]
    }
   ],
   "source": [
    "n,m = map(int,input().split())\n",
    "\n",
    "arr1 = numpy.array([list(map(int,input().split())) for i in range(n)])\n",
    "print(\"Input Array: \",arr1)\n",
    "arr_sum = numpy.sum(arr1,axis=0)\n",
    "print(\"Sum of elements ny row: \",arr_sum)\n",
    "print(\"Product of the sum: \",numpy.prod(arr_sum))"
   ]
  },
  {
   "cell_type": "markdown",
   "id": "48bc7fc0",
   "metadata": {},
   "source": [
    "### Problem 10: Min and max"
   ]
  },
  {
   "cell_type": "code",
   "execution_count": 16,
   "id": "63ae6801",
   "metadata": {},
   "outputs": [
    {
     "name": "stdout",
     "output_type": "stream",
     "text": [
      "4 2\n",
      "2 4\n",
      "5 6\n",
      "3 4\n",
      "7 2\n",
      "Input Array:  [[2 4]\n",
      " [5 6]\n",
      " [3 4]\n",
      " [7 2]]\n",
      "Minimum of Array:  [2 5 3 2]\n",
      "Maximum of Array:  5\n"
     ]
    }
   ],
   "source": [
    "n,m = map(int,input().split())\n",
    "\n",
    "arr1 = numpy.array([list(map(int,input().split())) for i in range(n)])\n",
    "print(\"Input Array: \",arr1)\n",
    "arr_min = numpy.min(arr1,axis=1)\n",
    "print(\"Minimum of Array: \",arr_min)\n",
    "print(\"Maximum of Array: \",numpy.max(arr_min))"
   ]
  },
  {
   "cell_type": "markdown",
   "id": "b0fa1c4a",
   "metadata": {},
   "source": [
    "### Problem 11: mean,var and std"
   ]
  },
  {
   "cell_type": "code",
   "execution_count": 17,
   "id": "4becd4ee",
   "metadata": {},
   "outputs": [
    {
     "name": "stdout",
     "output_type": "stream",
     "text": [
      "2 2\n",
      "1 2\n",
      "3 4\n",
      "Input Array:  [[1 2]\n",
      " [3 4]]\n",
      "Mean:  [ 1.5  3.5]\n",
      "Variance:  [ 1.  1.]\n",
      "Standard Variance:  1.11803398875\n"
     ]
    }
   ],
   "source": [
    "n,m = map(int,input().split())\n",
    "\n",
    "arr1 = numpy.array([list(map(int,input().split())) for i in range(n)])\n",
    "print(\"Input Array: \",arr1)\n",
    "print(\"Mean: \",numpy.mean(arr1,axis=1))\n",
    "print(\"Variance: \",numpy.var(arr1,axis=0))\n",
    "print(\"Standard Variance: \",round(numpy.std(arr1),11))"
   ]
  },
  {
   "cell_type": "markdown",
   "id": "c2fc2405",
   "metadata": {},
   "source": [
    "### Problem 12: Dot and cross"
   ]
  },
  {
   "cell_type": "code",
   "execution_count": 18,
   "id": "c3cddd6e",
   "metadata": {},
   "outputs": [
    {
     "name": "stdout",
     "output_type": "stream",
     "text": [
      "2\n",
      "2 2\n",
      "1 4\n",
      "6 4\n",
      "3 2\n",
      "A:  [[2 2]\n",
      " [1 4]]\n",
      "B:  [[6 4]\n",
      " [3 2]]\n",
      "Matrix Multiplication:  [[18 12]\n",
      " [18 12]]\n"
     ]
    }
   ],
   "source": [
    "n = int(input())\n",
    "a = numpy.array([list(map(int,input().split())) for i in range(n)])\n",
    "b = numpy.array([list(map(int,input().split())) for i in range(n)])\n",
    "print(\"A: \",a)\n",
    "print(\"B: \",b)\n",
    "print(\"Matrix Multiplication: \",numpy.matmul(a,b))"
   ]
  },
  {
   "cell_type": "markdown",
   "id": "ce6656fe",
   "metadata": {},
   "source": [
    "### Problem 13: Inner and outer"
   ]
  },
  {
   "cell_type": "code",
   "execution_count": 19,
   "id": "85955874",
   "metadata": {},
   "outputs": [
    {
     "name": "stdout",
     "output_type": "stream",
     "text": [
      "4 5 6\n",
      "5 4 3\n",
      "Inner Product:  58\n",
      "Outer Product:  [[20 16 12]\n",
      " [25 20 15]\n",
      " [30 24 18]]\n"
     ]
    }
   ],
   "source": [
    "a = numpy.array(list(map(int,input().split())))\n",
    "b = numpy.array(list(map(int,input().split())))\n",
    "\n",
    "print(\"Inner Product: \",numpy.inner(a,b))\n",
    "print(\"Outer Product: \",numpy.outer(a,b))"
   ]
  },
  {
   "cell_type": "markdown",
   "id": "7c8c7d7e",
   "metadata": {},
   "source": [
    "### Problem 14: Polynomials"
   ]
  },
  {
   "cell_type": "code",
   "execution_count": 45,
   "id": "1884aab1",
   "metadata": {},
   "outputs": [
    {
     "name": "stdout",
     "output_type": "stream",
     "text": [
      "1.1 2 3\n",
      "0\n",
      "3.0\n"
     ]
    }
   ],
   "source": [
    "coef = numpy.array(list(map(float,input().split())))\n",
    "x = int(input())\n",
    "\n",
    "print(numpy.polyval(coef, x))"
   ]
  },
  {
   "cell_type": "markdown",
   "id": "ac0fb8e4",
   "metadata": {},
   "source": [
    "### Problem 15: Linear Algebra"
   ]
  },
  {
   "cell_type": "code",
   "execution_count": 50,
   "id": "86e394df",
   "metadata": {},
   "outputs": [
    {
     "name": "stdout",
     "output_type": "stream",
     "text": [
      "2\n",
      "1.1 1.1\n",
      "1.1 1.1\n",
      "0.0\n"
     ]
    }
   ],
   "source": [
    "n = int(input())\n",
    "a = numpy.array([list(map(float,input().split())) for i in range(n)])\n",
    "\n",
    "print(round(numpy.linalg.det(a),2))\n"
   ]
  },
  {
   "cell_type": "code",
   "execution_count": null,
   "id": "4ba07786",
   "metadata": {},
   "outputs": [],
   "source": []
  }
 ],
 "metadata": {
  "kernelspec": {
   "display_name": "Python 3",
   "language": "python",
   "name": "python3"
  },
  "language_info": {
   "codemirror_mode": {
    "name": "ipython",
    "version": 3
   },
   "file_extension": ".py",
   "mimetype": "text/x-python",
   "name": "python",
   "nbconvert_exporter": "python",
   "pygments_lexer": "ipython3",
   "version": "3.8.8"
  }
 },
 "nbformat": 4,
 "nbformat_minor": 5
}
